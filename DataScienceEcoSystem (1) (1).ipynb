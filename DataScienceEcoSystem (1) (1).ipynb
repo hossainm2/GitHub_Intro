{
 "cells": [
  {
   "cell_type": "markdown",
   "id": "7e9494bf",
   "metadata": {},
   "source": [
    "**Data Science Tools and Eco Systems**\n"
   ]
  },
  {
   "cell_type": "markdown",
   "id": "833af100",
   "metadata": {},
   "source": [
    "Data Science is concened with big volume data."
   ]
  },
  {
   "cell_type": "markdown",
   "id": "936fb6bb",
   "metadata": {},
   "source": [
    "- C/C++\n",
    "- Python\n",
    "- JavaScript"
   ]
  },
  {
   "cell_type": "markdown",
   "id": "fe6c6668",
   "metadata": {},
   "source": [
    "Data Science Libraries\n",
    "- Pandas\n",
    "- NumPy\n",
    "- SciPy\n",
    "- Keras"
   ]
  },
  {
   "cell_type": "markdown",
   "id": "7f5cff35",
   "metadata": {},
   "source": [
    "| Serial | Data Science Tools | \n",
    "|------|-------|\n",
    "| 1 | Apache Spark | \n",
    "| 2 | IBM SPSS |\n",
    "| 3 | Jupyter Notebook|\n",
    "| 4 | Matlab|\n"
   ]
  },
  {
   "cell_type": "code",
   "execution_count": 1,
   "id": "04824cf5",
   "metadata": {},
   "outputs": [
    {
     "data": {
      "text/plain": [
       "35"
      ]
     },
     "execution_count": 1,
     "metadata": {},
     "output_type": "execute_result"
    }
   ],
   "source": [
    "20+40-25"
   ]
  },
  {
   "cell_type": "code",
   "execution_count": 7,
   "id": "023dc60c",
   "metadata": {},
   "outputs": [
    {
     "name": "stdout",
     "output_type": "stream",
     "text": [
      "Sum of 15 and 20 is 35\n"
     ]
    }
   ],
   "source": [
    "var1=15\n",
    "var2=20\n",
    "Sum=var1+var2\n",
    "print(\"Sum of\",var1,\"and\",var2,\"is\",Sum)\n"
   ]
  },
  {
   "cell_type": "code",
   "execution_count": 9,
   "id": "77e62f79",
   "metadata": {},
   "outputs": [
    {
     "name": "stdout",
     "output_type": "stream",
     "text": [
      "Product of 15 and 20 is 300\n"
     ]
    }
   ],
   "source": [
    "var1=15\n",
    "var2=20\n",
    "Product=var1*var2\n",
    "print(\"Product of\",var1,\"and\",var2,\"is\",Product)"
   ]
  },
  {
   "cell_type": "code",
   "execution_count": 12,
   "id": "28598132",
   "metadata": {},
   "outputs": [
    {
     "name": "stdout",
     "output_type": "stream",
     "text": [
      "Time in preferred format :- 02:46:40\n"
     ]
    }
   ],
   "source": [
    "\n",
    "def convert_to_preferred_format(sec):\n",
    "   sec = sec % (24 * 3600)\n",
    "   hour = sec // 3600\n",
    "   sec %= 3600\n",
    "   min = sec // 60\n",
    "   sec %= 60\n",
    "   return \"%02d:%02d:%02d\" % (hour, min, sec) \n",
    "\n",
    "n = 10000\n",
    "print(\"Time in preferred format :-\", convert_to_preferred_format(n))\n"
   ]
  },
  {
   "cell_type": "markdown",
   "id": "cbdc281e",
   "metadata": {},
   "source": [
    "**Cource Objectives**\n",
    "\n",
    "- Different Programing Languages\n",
    "- Libraries\n",
    "- Programing tools\n",
    "\n"
   ]
  },
  {
   "cell_type": "markdown",
   "id": "f9ee09b5",
   "metadata": {},
   "source": [
    "**Md. Imtiaj Hossain**"
   ]
  },
  {
   "cell_type": "code",
   "execution_count": null,
   "id": "4d7dda4d",
   "metadata": {},
   "outputs": [],
   "source": []
  }
 ],
 "metadata": {
  "kernelspec": {
   "display_name": "Python 3 (ipykernel)",
   "language": "python",
   "name": "python3"
  },
  "language_info": {
   "codemirror_mode": {
    "name": "ipython",
    "version": 3
   },
   "file_extension": ".py",
   "mimetype": "text/x-python",
   "name": "python",
   "nbconvert_exporter": "python",
   "pygments_lexer": "ipython3",
   "version": "3.10.9"
  }
 },
 "nbformat": 4,
 "nbformat_minor": 5
}
